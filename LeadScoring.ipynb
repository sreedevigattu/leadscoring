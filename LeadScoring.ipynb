{
 "cells": [
  {
   "cell_type": "markdown",
   "source": [
    "# Lead Scoring Case Study"
   ],
   "metadata": {}
  },
  {
   "cell_type": "markdown",
   "source": [
    "- Understand the valrous columns\n",
    "- Missing value imputation\n",
    "- check data imbalance\n",
    "- Outlier treatment\n",
    "- Dummy variable creation \n",
    "- Test train split\n",
    "- Standardisation\n",
    "- Build model\n",
    "- Feature elimination\n",
    "- Model evaluation\n",
    "\n",
    "- Attach a lead score for each row\n",
    "- Find a cut off for hot-lead"
   ],
   "metadata": {}
  },
  {
   "cell_type": "markdown",
   "source": [
    "## Functions"
   ],
   "metadata": {}
  },
  {
   "cell_type": "code",
   "execution_count": 83,
   "source": [
    "import importlib\n",
    "\n",
    "import pandas as pd\n",
    "\n",
    "import matplotlib.pyplot as plt\n",
    "\n",
    "import utils"
   ],
   "outputs": [],
   "metadata": {}
  },
  {
   "cell_type": "markdown",
   "source": [
    "## Read data set"
   ],
   "metadata": {}
  },
  {
   "cell_type": "code",
   "execution_count": 84,
   "source": [
    "df = pd.read_csv(\"Leads.csv\")\n",
    "df.info()"
   ],
   "outputs": [
    {
     "output_type": "stream",
     "name": "stdout",
     "text": [
      "<class 'pandas.core.frame.DataFrame'>\n",
      "RangeIndex: 9240 entries, 0 to 9239\n",
      "Data columns (total 37 columns):\n",
      " #   Column                                         Non-Null Count  Dtype  \n",
      "---  ------                                         --------------  -----  \n",
      " 0   Prospect ID                                    9240 non-null   object \n",
      " 1   Lead Number                                    9240 non-null   int64  \n",
      " 2   Lead Origin                                    9240 non-null   object \n",
      " 3   Lead Source                                    9204 non-null   object \n",
      " 4   Do Not Email                                   9240 non-null   object \n",
      " 5   Do Not Call                                    9240 non-null   object \n",
      " 6   Converted                                      9240 non-null   int64  \n",
      " 7   TotalVisits                                    9103 non-null   float64\n",
      " 8   Total Time Spent on Website                    9240 non-null   int64  \n",
      " 9   Page Views Per Visit                           9103 non-null   float64\n",
      " 10  Last Activity                                  9137 non-null   object \n",
      " 11  Country                                        6779 non-null   object \n",
      " 12  Specialization                                 7802 non-null   object \n",
      " 13  How did you hear about X Education             7033 non-null   object \n",
      " 14  What is your current occupation                6550 non-null   object \n",
      " 15  What matters most to you in choosing a course  6531 non-null   object \n",
      " 16  Search                                         9240 non-null   object \n",
      " 17  Magazine                                       9240 non-null   object \n",
      " 18  Newspaper Article                              9240 non-null   object \n",
      " 19  X Education Forums                             9240 non-null   object \n",
      " 20  Newspaper                                      9240 non-null   object \n",
      " 21  Digital Advertisement                          9240 non-null   object \n",
      " 22  Through Recommendations                        9240 non-null   object \n",
      " 23  Receive More Updates About Our Courses         9240 non-null   object \n",
      " 24  Tags                                           5887 non-null   object \n",
      " 25  Lead Quality                                   4473 non-null   object \n",
      " 26  Update me on Supply Chain Content              9240 non-null   object \n",
      " 27  Get updates on DM Content                      9240 non-null   object \n",
      " 28  Lead Profile                                   6531 non-null   object \n",
      " 29  City                                           7820 non-null   object \n",
      " 30  Asymmetrique Activity Index                    5022 non-null   object \n",
      " 31  Asymmetrique Profile Index                     5022 non-null   object \n",
      " 32  Asymmetrique Activity Score                    5022 non-null   float64\n",
      " 33  Asymmetrique Profile Score                     5022 non-null   float64\n",
      " 34  I agree to pay the amount through cheque       9240 non-null   object \n",
      " 35  A free copy of Mastering The Interview         9240 non-null   object \n",
      " 36  Last Notable Activity                          9240 non-null   object \n",
      "dtypes: float64(4), int64(3), object(30)\n",
      "memory usage: 2.6+ MB\n"
     ]
    }
   ],
   "metadata": {}
  },
  {
   "cell_type": "markdown",
   "source": [
    "### Rename, Group, Reorder columns"
   ],
   "metadata": {}
  },
  {
   "cell_type": "code",
   "execution_count": 86,
   "source": [
    "# Rename the columns that have long names or have spaces\n",
    "df.rename(columns={'Prospect ID':'ProspectID'}, inplace=True)\n",
    "df.rename(columns={'What is your current occupation':'Occupation', 'What matters most to you in choosing a course':'Reason'}, inplace=True)\n",
    "df.rename(columns={'How did you hear about X Education':'Found', 'Search':'AdSearch', 'Magazine':'AdMagazine', 'Newspaper Article':'AdNewspaperArticle',\\\n",
    "                    'Newspaper':'AdNewspaper', 'X Education Forums':'AdForums','Digital Advertisement':'AdDigital', 'Through Recommendations':'Recommendations' }, inplace=True)\n",
    "df.rename(columns={'Do Not Email':\"NoEmail\", 'Do Not Call':\"NoCall\",'Receive More Updates About Our Courses':\"CourseUpdates\", \\\n",
    "                    'Update me on Supply Chain Content':\"SCCUpdates\", 'Get updates on DM Content':\"DMCUpdates\",'A free copy of Mastering The Interview':\"FreeCopy\",\\\n",
    "                    'I agree to pay the amount through cheque':\"PayAmount\"}, inplace=True)\n",
    "df.rename(columns={'Page Views Per Visit':'PageViews', 'Total Time Spent on Website':'TimeSpent','Last Activity':'LastActivity','Last Notable Activity':'LastNotableActivity'}, inplace=True)\n",
    "df.rename(columns={'Lead Number':'LeadNumber', 'Lead Origin':'LeadOrigin', 'Lead Source': 'LeadSource','Lead Quality':'LeadQuality', 'Lead Profile':'LeadProfile'}, inplace=True)\n",
    "df.rename(columns={'Asymmetrique Activity Index':'ActivityIndex', 'Asymmetrique Profile Index':'ProfileIndex', 'Asymmetrique Activity Score':'ActivityScore', \\\n",
    "                    'Asymmetrique Profile Score':'ProfileScore'}, inplace=True)\n",
    "#df.rename(columns={}, inplace=True)\n",
    "\n",
    "# Group the columns\n",
    "COLS_ID         = ['ProspectID'] # customer id\n",
    "COLS_LOC        = ['Country','City']\n",
    "\n",
    "COLS_PROF       = ['Occupation', 'Reason','Specialization']\n",
    "COLS_AD         = ['Found', 'AdSearch', 'AdMagazine', 'AdNewspaperArticle', 'AdForums', 'AdNewspaper', 'AdDigital', 'Recommendations']\n",
    "COLS_PREF       = ['NoEmail', 'NoCall','CourseUpdates', 'SCCUpdates', 'DMCUpdates','FreeCopy','PayAmount']\n",
    "\n",
    "COLS_ACTIVTIY   = ['TotalVisits', 'PageViews', 'TimeSpent','LastActivity', 'LastNotableActivity']\n",
    "\n",
    "COLS_LEAD       = ['LeadNumber', 'LeadOrigin', 'LeadSource','LeadQuality',  'LeadProfile', 'Tags']\n",
    "COLS_INDEXSCORE = ['ActivityIndex', 'ProfileIndex', 'ActivityScore', 'ProfileScore']\n",
    "\n",
    "COLS_TARGET     = ['Converted']\n",
    "\n",
    "df = df[COLS_ID + COLS_LOC + COLS_PROF + COLS_AD + COLS_PREF + COLS_ACTIVTIY + COLS_LEAD + COLS_INDEXSCORE + COLS_TARGET]\n",
    "\n",
    "print(df.info())\n",
    "df.head()"
   ],
   "outputs": [
    {
     "output_type": "stream",
     "name": "stdout",
     "text": [
      "<class 'pandas.core.frame.DataFrame'>\n",
      "RangeIndex: 9240 entries, 0 to 9239\n",
      "Data columns (total 37 columns):\n",
      " #   Column               Non-Null Count  Dtype  \n",
      "---  ------               --------------  -----  \n",
      " 0   ProspectID           9240 non-null   object \n",
      " 1   Country              6779 non-null   object \n",
      " 2   City                 7820 non-null   object \n",
      " 3   Occupation           6550 non-null   object \n",
      " 4   Reason               6531 non-null   object \n",
      " 5   Specialization       7802 non-null   object \n",
      " 6   Found                7033 non-null   object \n",
      " 7   AdSearch             9240 non-null   object \n",
      " 8   AdMagazine           9240 non-null   object \n",
      " 9   AdNewspaperArticle   9240 non-null   object \n",
      " 10  AdForums             9240 non-null   object \n",
      " 11  AdNewspaper          9240 non-null   object \n",
      " 12  AdDigital            9240 non-null   object \n",
      " 13  Recommendations      9240 non-null   object \n",
      " 14  NoEmail              9240 non-null   object \n",
      " 15  NoCall               9240 non-null   object \n",
      " 16  CourseUpdates        9240 non-null   object \n",
      " 17  SCCUpdates           9240 non-null   object \n",
      " 18  DMCUpdates           9240 non-null   object \n",
      " 19  FreeCopy             9240 non-null   object \n",
      " 20  PayAmount            9240 non-null   object \n",
      " 21  TotalVisits          9103 non-null   float64\n",
      " 22  PageViews            9103 non-null   float64\n",
      " 23  TimeSpent            9240 non-null   int64  \n",
      " 24  LastActivity         9137 non-null   object \n",
      " 25  LastNotableActivity  9240 non-null   object \n",
      " 26  LeadNumber           9240 non-null   int64  \n",
      " 27  LeadOrigin           9240 non-null   object \n",
      " 28  LeadSource           9204 non-null   object \n",
      " 29  LeadQuality          4473 non-null   object \n",
      " 30  LeadProfile          6531 non-null   object \n",
      " 31  Tags                 5887 non-null   object \n",
      " 32  ActivityIndex        5022 non-null   object \n",
      " 33  ProfileIndex         5022 non-null   object \n",
      " 34  ActivityScore        5022 non-null   float64\n",
      " 35  ProfileScore         5022 non-null   float64\n",
      " 36  Converted            9240 non-null   int64  \n",
      "dtypes: float64(4), int64(3), object(30)\n",
      "memory usage: 2.6+ MB\n",
      "None\n"
     ]
    },
    {
     "output_type": "execute_result",
     "data": {
      "text/html": [
       "<div>\n",
       "<style scoped>\n",
       "    .dataframe tbody tr th:only-of-type {\n",
       "        vertical-align: middle;\n",
       "    }\n",
       "\n",
       "    .dataframe tbody tr th {\n",
       "        vertical-align: top;\n",
       "    }\n",
       "\n",
       "    .dataframe thead th {\n",
       "        text-align: right;\n",
       "    }\n",
       "</style>\n",
       "<table border=\"1\" class=\"dataframe\">\n",
       "  <thead>\n",
       "    <tr style=\"text-align: right;\">\n",
       "      <th></th>\n",
       "      <th>ProspectID</th>\n",
       "      <th>Country</th>\n",
       "      <th>City</th>\n",
       "      <th>Occupation</th>\n",
       "      <th>Reason</th>\n",
       "      <th>Specialization</th>\n",
       "      <th>Found</th>\n",
       "      <th>AdSearch</th>\n",
       "      <th>AdMagazine</th>\n",
       "      <th>AdNewspaperArticle</th>\n",
       "      <th>...</th>\n",
       "      <th>LeadOrigin</th>\n",
       "      <th>LeadSource</th>\n",
       "      <th>LeadQuality</th>\n",
       "      <th>LeadProfile</th>\n",
       "      <th>Tags</th>\n",
       "      <th>ActivityIndex</th>\n",
       "      <th>ProfileIndex</th>\n",
       "      <th>ActivityScore</th>\n",
       "      <th>ProfileScore</th>\n",
       "      <th>Converted</th>\n",
       "    </tr>\n",
       "  </thead>\n",
       "  <tbody>\n",
       "    <tr>\n",
       "      <th>0</th>\n",
       "      <td>7927b2df-8bba-4d29-b9a2-b6e0beafe620</td>\n",
       "      <td>NaN</td>\n",
       "      <td>Select</td>\n",
       "      <td>Unemployed</td>\n",
       "      <td>Better Career Prospects</td>\n",
       "      <td>Select</td>\n",
       "      <td>Select</td>\n",
       "      <td>No</td>\n",
       "      <td>No</td>\n",
       "      <td>No</td>\n",
       "      <td>...</td>\n",
       "      <td>API</td>\n",
       "      <td>Olark Chat</td>\n",
       "      <td>Low in Relevance</td>\n",
       "      <td>Select</td>\n",
       "      <td>Interested in other courses</td>\n",
       "      <td>02.Medium</td>\n",
       "      <td>02.Medium</td>\n",
       "      <td>15.0</td>\n",
       "      <td>15.0</td>\n",
       "      <td>0</td>\n",
       "    </tr>\n",
       "    <tr>\n",
       "      <th>1</th>\n",
       "      <td>2a272436-5132-4136-86fa-dcc88c88f482</td>\n",
       "      <td>India</td>\n",
       "      <td>Select</td>\n",
       "      <td>Unemployed</td>\n",
       "      <td>Better Career Prospects</td>\n",
       "      <td>Select</td>\n",
       "      <td>Select</td>\n",
       "      <td>No</td>\n",
       "      <td>No</td>\n",
       "      <td>No</td>\n",
       "      <td>...</td>\n",
       "      <td>API</td>\n",
       "      <td>Organic Search</td>\n",
       "      <td>NaN</td>\n",
       "      <td>Select</td>\n",
       "      <td>Ringing</td>\n",
       "      <td>02.Medium</td>\n",
       "      <td>02.Medium</td>\n",
       "      <td>15.0</td>\n",
       "      <td>15.0</td>\n",
       "      <td>0</td>\n",
       "    </tr>\n",
       "    <tr>\n",
       "      <th>2</th>\n",
       "      <td>8cc8c611-a219-4f35-ad23-fdfd2656bd8a</td>\n",
       "      <td>India</td>\n",
       "      <td>Mumbai</td>\n",
       "      <td>Student</td>\n",
       "      <td>Better Career Prospects</td>\n",
       "      <td>Business Administration</td>\n",
       "      <td>Select</td>\n",
       "      <td>No</td>\n",
       "      <td>No</td>\n",
       "      <td>No</td>\n",
       "      <td>...</td>\n",
       "      <td>Landing Page Submission</td>\n",
       "      <td>Direct Traffic</td>\n",
       "      <td>Might be</td>\n",
       "      <td>Potential Lead</td>\n",
       "      <td>Will revert after reading the email</td>\n",
       "      <td>02.Medium</td>\n",
       "      <td>01.High</td>\n",
       "      <td>14.0</td>\n",
       "      <td>20.0</td>\n",
       "      <td>1</td>\n",
       "    </tr>\n",
       "    <tr>\n",
       "      <th>3</th>\n",
       "      <td>0cc2df48-7cf4-4e39-9de9-19797f9b38cc</td>\n",
       "      <td>India</td>\n",
       "      <td>Mumbai</td>\n",
       "      <td>Unemployed</td>\n",
       "      <td>Better Career Prospects</td>\n",
       "      <td>Media and Advertising</td>\n",
       "      <td>Word Of Mouth</td>\n",
       "      <td>No</td>\n",
       "      <td>No</td>\n",
       "      <td>No</td>\n",
       "      <td>...</td>\n",
       "      <td>Landing Page Submission</td>\n",
       "      <td>Direct Traffic</td>\n",
       "      <td>Not Sure</td>\n",
       "      <td>Select</td>\n",
       "      <td>Ringing</td>\n",
       "      <td>02.Medium</td>\n",
       "      <td>01.High</td>\n",
       "      <td>13.0</td>\n",
       "      <td>17.0</td>\n",
       "      <td>0</td>\n",
       "    </tr>\n",
       "    <tr>\n",
       "      <th>4</th>\n",
       "      <td>3256f628-e534-4826-9d63-4a8b88782852</td>\n",
       "      <td>India</td>\n",
       "      <td>Mumbai</td>\n",
       "      <td>Unemployed</td>\n",
       "      <td>Better Career Prospects</td>\n",
       "      <td>Select</td>\n",
       "      <td>Other</td>\n",
       "      <td>No</td>\n",
       "      <td>No</td>\n",
       "      <td>No</td>\n",
       "      <td>...</td>\n",
       "      <td>Landing Page Submission</td>\n",
       "      <td>Google</td>\n",
       "      <td>Might be</td>\n",
       "      <td>Select</td>\n",
       "      <td>Will revert after reading the email</td>\n",
       "      <td>02.Medium</td>\n",
       "      <td>01.High</td>\n",
       "      <td>15.0</td>\n",
       "      <td>18.0</td>\n",
       "      <td>1</td>\n",
       "    </tr>\n",
       "  </tbody>\n",
       "</table>\n",
       "<p>5 rows × 37 columns</p>\n",
       "</div>"
      ],
      "text/plain": [
       "                             ProspectID Country    City  Occupation  \\\n",
       "0  7927b2df-8bba-4d29-b9a2-b6e0beafe620     NaN  Select  Unemployed   \n",
       "1  2a272436-5132-4136-86fa-dcc88c88f482   India  Select  Unemployed   \n",
       "2  8cc8c611-a219-4f35-ad23-fdfd2656bd8a   India  Mumbai     Student   \n",
       "3  0cc2df48-7cf4-4e39-9de9-19797f9b38cc   India  Mumbai  Unemployed   \n",
       "4  3256f628-e534-4826-9d63-4a8b88782852   India  Mumbai  Unemployed   \n",
       "\n",
       "                    Reason           Specialization          Found AdSearch  \\\n",
       "0  Better Career Prospects                   Select         Select       No   \n",
       "1  Better Career Prospects                   Select         Select       No   \n",
       "2  Better Career Prospects  Business Administration         Select       No   \n",
       "3  Better Career Prospects    Media and Advertising  Word Of Mouth       No   \n",
       "4  Better Career Prospects                   Select          Other       No   \n",
       "\n",
       "  AdMagazine AdNewspaperArticle  ...               LeadOrigin      LeadSource  \\\n",
       "0         No                 No  ...                      API      Olark Chat   \n",
       "1         No                 No  ...                      API  Organic Search   \n",
       "2         No                 No  ...  Landing Page Submission  Direct Traffic   \n",
       "3         No                 No  ...  Landing Page Submission  Direct Traffic   \n",
       "4         No                 No  ...  Landing Page Submission          Google   \n",
       "\n",
       "        LeadQuality     LeadProfile                                 Tags  \\\n",
       "0  Low in Relevance          Select          Interested in other courses   \n",
       "1               NaN          Select                              Ringing   \n",
       "2          Might be  Potential Lead  Will revert after reading the email   \n",
       "3          Not Sure          Select                              Ringing   \n",
       "4          Might be          Select  Will revert after reading the email   \n",
       "\n",
       "  ActivityIndex ProfileIndex ActivityScore ProfileScore Converted  \n",
       "0     02.Medium    02.Medium          15.0         15.0         0  \n",
       "1     02.Medium    02.Medium          15.0         15.0         0  \n",
       "2     02.Medium      01.High          14.0         20.0         1  \n",
       "3     02.Medium      01.High          13.0         17.0         0  \n",
       "4     02.Medium      01.High          15.0         18.0         1  \n",
       "\n",
       "[5 rows x 37 columns]"
      ]
     },
     "metadata": {},
     "execution_count": 86
    }
   ],
   "metadata": {}
  },
  {
   "cell_type": "code",
   "execution_count": 87,
   "source": [
    "COLUMNS = df.columns.tolist(); colDetails(COLUMNS, \"COLUMNS\")\n",
    "\n",
    "COLUMNS_CAT = df.select_dtypes(include=['object']).columns; \n",
    "COLUMNS_CAT = list(set(COLUMNS_CAT) - set(['Prospect ID']))\n",
    "colDetails(COLUMNS_CAT, \"COLUMNS_CAT\")\n",
    "\n",
    "COLUMNS_NULL = df[df.columns[df.isnull().any()]].columns.tolist(); colDetails(COLUMNS_NULL, \"COLUMNS_NULL\")"
   ],
   "outputs": [
    {
     "output_type": "stream",
     "name": "stdout",
     "text": [
      "\n",
      "COLUMNS: 37 ['ProspectID', 'Country', 'City', 'Occupation', 'Reason', 'Specialization', 'Found', 'AdSearch', 'AdMagazine', 'AdNewspaperArticle', 'AdForums', 'AdNewspaper', 'AdDigital', 'Recommendations', 'NoEmail', 'NoCall', 'CourseUpdates', 'SCCUpdates', 'DMCUpdates', 'FreeCopy', 'PayAmount', 'TotalVisits', 'PageViews', 'TimeSpent', 'LastActivity', 'LastNotableActivity', 'LeadNumber', 'LeadOrigin', 'LeadSource', 'LeadQuality', 'LeadProfile', 'Tags', 'ActivityIndex', 'ProfileIndex', 'ActivityScore', 'ProfileScore', 'Converted']\n",
      "\n",
      "COLUMNS_CAT: 30 ['NoCall', 'AdMagazine', 'AdForums', 'AdDigital', 'LastNotableActivity', 'LeadSource', 'LastActivity', 'Recommendations', 'FreeCopy', 'DMCUpdates', 'LeadQuality', 'LeadOrigin', 'Tags', 'LeadProfile', 'ProfileIndex', 'AdNewspaper', 'AdSearch', 'AdNewspaperArticle', 'Specialization', 'Found', 'PayAmount', 'ActivityIndex', 'City', 'ProspectID', 'Occupation', 'Country', 'Reason', 'SCCUpdates', 'NoEmail', 'CourseUpdates']\n",
      "\n",
      "COLUMNS_NULL: 17 ['Country', 'City', 'Occupation', 'Reason', 'Specialization', 'Found', 'TotalVisits', 'PageViews', 'LastActivity', 'LeadSource', 'LeadQuality', 'LeadProfile', 'Tags', 'ActivityIndex', 'ProfileIndex', 'ActivityScore', 'ProfileScore']\n"
     ]
    }
   ],
   "metadata": {}
  },
  {
   "cell_type": "markdown",
   "source": [
    "### IDs\n",
    "Identifiers of customer and lead\n",
    "- Drop them for the model building"
   ],
   "metadata": {}
  },
  {
   "cell_type": "code",
   "execution_count": 88,
   "source": [
    "df[COLS_ID][:5]"
   ],
   "outputs": [
    {
     "output_type": "execute_result",
     "data": {
      "text/html": [
       "<div>\n",
       "<style scoped>\n",
       "    .dataframe tbody tr th:only-of-type {\n",
       "        vertical-align: middle;\n",
       "    }\n",
       "\n",
       "    .dataframe tbody tr th {\n",
       "        vertical-align: top;\n",
       "    }\n",
       "\n",
       "    .dataframe thead th {\n",
       "        text-align: right;\n",
       "    }\n",
       "</style>\n",
       "<table border=\"1\" class=\"dataframe\">\n",
       "  <thead>\n",
       "    <tr style=\"text-align: right;\">\n",
       "      <th></th>\n",
       "      <th>ProspectID</th>\n",
       "    </tr>\n",
       "  </thead>\n",
       "  <tbody>\n",
       "    <tr>\n",
       "      <th>0</th>\n",
       "      <td>7927b2df-8bba-4d29-b9a2-b6e0beafe620</td>\n",
       "    </tr>\n",
       "    <tr>\n",
       "      <th>1</th>\n",
       "      <td>2a272436-5132-4136-86fa-dcc88c88f482</td>\n",
       "    </tr>\n",
       "    <tr>\n",
       "      <th>2</th>\n",
       "      <td>8cc8c611-a219-4f35-ad23-fdfd2656bd8a</td>\n",
       "    </tr>\n",
       "    <tr>\n",
       "      <th>3</th>\n",
       "      <td>0cc2df48-7cf4-4e39-9de9-19797f9b38cc</td>\n",
       "    </tr>\n",
       "    <tr>\n",
       "      <th>4</th>\n",
       "      <td>3256f628-e534-4826-9d63-4a8b88782852</td>\n",
       "    </tr>\n",
       "  </tbody>\n",
       "</table>\n",
       "</div>"
      ],
      "text/plain": [
       "                             ProspectID\n",
       "0  7927b2df-8bba-4d29-b9a2-b6e0beafe620\n",
       "1  2a272436-5132-4136-86fa-dcc88c88f482\n",
       "2  8cc8c611-a219-4f35-ad23-fdfd2656bd8a\n",
       "3  0cc2df48-7cf4-4e39-9de9-19797f9b38cc\n",
       "4  3256f628-e534-4826-9d63-4a8b88782852"
      ]
     },
     "metadata": {},
     "execution_count": 88
    }
   ],
   "metadata": {}
  },
  {
   "cell_type": "code",
   "execution_count": 91,
   "source": [
    "importlib.reload(utils) \n",
    "for col in COLS_ID:\n",
    "    utils.colInfo1(df, col, showValues=False)"
   ],
   "outputs": [
    {
     "output_type": "stream",
     "name": "stdout",
     "text": [
      "ProspectID: object  :    0, 0.0% : \n"
     ]
    }
   ],
   "metadata": {}
  },
  {
   "cell_type": "markdown",
   "source": [
    "- The prospect Ids are all unique and no missing values.\n",
    "- This need not be part of the model"
   ],
   "metadata": {}
  },
  {
   "cell_type": "markdown",
   "source": [
    "### LOC"
   ],
   "metadata": {}
  },
  {
   "cell_type": "code",
   "execution_count": 92,
   "source": [
    "df[COLS_LOC][:5]"
   ],
   "outputs": [
    {
     "output_type": "execute_result",
     "data": {
      "text/html": [
       "<div>\n",
       "<style scoped>\n",
       "    .dataframe tbody tr th:only-of-type {\n",
       "        vertical-align: middle;\n",
       "    }\n",
       "\n",
       "    .dataframe tbody tr th {\n",
       "        vertical-align: top;\n",
       "    }\n",
       "\n",
       "    .dataframe thead th {\n",
       "        text-align: right;\n",
       "    }\n",
       "</style>\n",
       "<table border=\"1\" class=\"dataframe\">\n",
       "  <thead>\n",
       "    <tr style=\"text-align: right;\">\n",
       "      <th></th>\n",
       "      <th>Country</th>\n",
       "      <th>City</th>\n",
       "    </tr>\n",
       "  </thead>\n",
       "  <tbody>\n",
       "    <tr>\n",
       "      <th>0</th>\n",
       "      <td>NaN</td>\n",
       "      <td>Select</td>\n",
       "    </tr>\n",
       "    <tr>\n",
       "      <th>1</th>\n",
       "      <td>India</td>\n",
       "      <td>Select</td>\n",
       "    </tr>\n",
       "    <tr>\n",
       "      <th>2</th>\n",
       "      <td>India</td>\n",
       "      <td>Mumbai</td>\n",
       "    </tr>\n",
       "    <tr>\n",
       "      <th>3</th>\n",
       "      <td>India</td>\n",
       "      <td>Mumbai</td>\n",
       "    </tr>\n",
       "    <tr>\n",
       "      <th>4</th>\n",
       "      <td>India</td>\n",
       "      <td>Mumbai</td>\n",
       "    </tr>\n",
       "  </tbody>\n",
       "</table>\n",
       "</div>"
      ],
      "text/plain": [
       "  Country    City\n",
       "0     NaN  Select\n",
       "1   India  Select\n",
       "2   India  Mumbai\n",
       "3   India  Mumbai\n",
       "4   India  Mumbai"
      ]
     },
     "metadata": {},
     "execution_count": 92
    }
   ],
   "metadata": {}
  },
  {
   "cell_type": "code",
   "execution_count": 94,
   "source": [
    "for col in COLS_LOC:\n",
    "    utils.colInfo1(df, col)"
   ],
   "outputs": [
    {
     "output_type": "stream",
     "name": "stdout",
     "text": [
      "Country   : object  : 2461, 26.6% :   39, 0.4% : [nan, 'India', 'Russia', 'Kuwait', 'Oman', 'United Arab Emirates', 'United States', 'Australia', 'United Kingdom', 'Bahrain', 'Ghana', 'Singapore', 'Qatar', 'Saudi Arabia', 'Belgium', 'France', 'Sri Lanka', 'China', 'Canada', 'Netherlands', 'Sweden', 'Nigeria', 'Hong Kong', 'Germany', 'Asia/Pacific Region', 'Uganda', 'Kenya', 'Italy', 'South Africa', 'Tanzania', 'unknown', 'Malaysia', 'Liberia', 'Switzerland', 'Denmark', 'Philippines', 'Bangladesh', 'Vietnam', 'Indonesia']\n",
      "City      : object  : 1420, 15.4% :    8, 0.1% : ['Select', 'Mumbai', nan, 'Thane & Outskirts', 'Other Metro Cities', 'Other Cities', 'Other Cities of Maharashtra', 'Tier II Cities']\n"
     ]
    }
   ],
   "metadata": {}
  },
  {
   "cell_type": "markdown",
   "source": [
    "| Column Name | Missing value handling| a |\n",
    "|---|---|---|\n",
    "| Country | Has missing values. Based on city some countries could be filled | |\n",
    "| City | Has msising values & Select. Select should be replaced by null. | |"
   ],
   "metadata": {}
  },
  {
   "cell_type": "markdown",
   "source": [
    "### PROF"
   ],
   "metadata": {}
  },
  {
   "cell_type": "code",
   "execution_count": 95,
   "source": [
    "df[COLS_PROF][:5]"
   ],
   "outputs": [
    {
     "output_type": "execute_result",
     "data": {
      "text/html": [
       "<div>\n",
       "<style scoped>\n",
       "    .dataframe tbody tr th:only-of-type {\n",
       "        vertical-align: middle;\n",
       "    }\n",
       "\n",
       "    .dataframe tbody tr th {\n",
       "        vertical-align: top;\n",
       "    }\n",
       "\n",
       "    .dataframe thead th {\n",
       "        text-align: right;\n",
       "    }\n",
       "</style>\n",
       "<table border=\"1\" class=\"dataframe\">\n",
       "  <thead>\n",
       "    <tr style=\"text-align: right;\">\n",
       "      <th></th>\n",
       "      <th>Occupation</th>\n",
       "      <th>Reason</th>\n",
       "      <th>Specialization</th>\n",
       "    </tr>\n",
       "  </thead>\n",
       "  <tbody>\n",
       "    <tr>\n",
       "      <th>0</th>\n",
       "      <td>Unemployed</td>\n",
       "      <td>Better Career Prospects</td>\n",
       "      <td>Select</td>\n",
       "    </tr>\n",
       "    <tr>\n",
       "      <th>1</th>\n",
       "      <td>Unemployed</td>\n",
       "      <td>Better Career Prospects</td>\n",
       "      <td>Select</td>\n",
       "    </tr>\n",
       "    <tr>\n",
       "      <th>2</th>\n",
       "      <td>Student</td>\n",
       "      <td>Better Career Prospects</td>\n",
       "      <td>Business Administration</td>\n",
       "    </tr>\n",
       "    <tr>\n",
       "      <th>3</th>\n",
       "      <td>Unemployed</td>\n",
       "      <td>Better Career Prospects</td>\n",
       "      <td>Media and Advertising</td>\n",
       "    </tr>\n",
       "    <tr>\n",
       "      <th>4</th>\n",
       "      <td>Unemployed</td>\n",
       "      <td>Better Career Prospects</td>\n",
       "      <td>Select</td>\n",
       "    </tr>\n",
       "  </tbody>\n",
       "</table>\n",
       "</div>"
      ],
      "text/plain": [
       "   Occupation                   Reason           Specialization\n",
       "0  Unemployed  Better Career Prospects                   Select\n",
       "1  Unemployed  Better Career Prospects                   Select\n",
       "2     Student  Better Career Prospects  Business Administration\n",
       "3  Unemployed  Better Career Prospects    Media and Advertising\n",
       "4  Unemployed  Better Career Prospects                   Select"
      ]
     },
     "metadata": {},
     "execution_count": 95
    }
   ],
   "metadata": {}
  },
  {
   "cell_type": "code",
   "execution_count": 97,
   "source": [
    "importlib.reload(utils) \n",
    "utils.showColumns(df, COLS_PROF)"
   ],
   "outputs": [
    {
     "output_type": "stream",
     "name": "stdout",
     "text": [
      "Occupation: object  : 2690, 29.1% :    7, 0.1% : ['Unemployed', 'Student', nan, 'Working Professional', 'Businessman', 'Other', 'Housewife']\n",
      "Reason    : object  : 2709, 29.3% :    4, 0.0% : ['Better Career Prospects', nan, 'Flexibility & Convenience', 'Other']\n",
      "Specialization: object  : 1438, 15.6% :   20, 0.2% : ['Select', 'Business Administration', 'Media and Advertising', nan, 'Supply Chain Management', 'IT Projects Management', 'Finance Management', 'Travel and Tourism', 'Human Resource Management', 'Marketing Management', 'Banking, Investment And Insurance', 'International Business', 'E-COMMERCE', 'Operations Management', 'Retail Management', 'Services Excellence', 'Hospitality Management', 'Rural and Agribusiness', 'Healthcare Management', 'E-Business']\n"
     ]
    }
   ],
   "metadata": {}
  },
  {
   "cell_type": "markdown",
   "source": [
    "| Column Name | Missing values? | Select? | Handling |\n",
    "|---|---|---|---|\n",
    "| Occupation | 29% | No | Replace NaN with 'Unknown' |\n",
    "| Reason | 29% | No | Replace NaN with 'Unknown' |\n",
    "| Specialization | 15.6% | Yes | Replace Select with NaN. Replace NaN with 'Others' |"
   ],
   "metadata": {}
  },
  {
   "cell_type": "markdown",
   "source": [
    "### AD"
   ],
   "metadata": {}
  },
  {
   "cell_type": "code",
   "execution_count": 98,
   "source": [
    "utils.showColumns(df, COLS_AD)"
   ],
   "outputs": [
    {
     "output_type": "stream",
     "name": "stdout",
     "text": [
      "Found     : object  : 2207, 23.9% :   11, 0.1% : ['Select', 'Word Of Mouth', 'Other', nan, 'Online Search', 'Multiple Sources', 'Advertisements', 'Student of SomeSchool', 'Email', 'Social Media', 'SMS']\n",
      "AdSearch  : object  :    0, 0.0% :    2, 0.0% : ['No', 'Yes']\n",
      "AdMagazine: object  :    0, 0.0% :    1, 0.0% : ['No']\n",
      "AdNewspaperArticle: object  :    0, 0.0% :    2, 0.0% : ['No', 'Yes']\n",
      "AdForums  : object  :    0, 0.0% :    2, 0.0% : ['No', 'Yes']\n",
      "AdNewspaper: object  :    0, 0.0% :    2, 0.0% : ['No', 'Yes']\n",
      "AdDigital : object  :    0, 0.0% :    2, 0.0% : ['No', 'Yes']\n",
      "Recommendations: object  :    0, 0.0% :    2, 0.0% : ['No', 'Yes']\n"
     ]
    }
   ],
   "metadata": {}
  },
  {
   "cell_type": "markdown",
   "source": [
    "| Column Name | Missing values? | Select? | Handling |\n",
    "|---|---|---|---|\n",
    "| Found | 23.9% | Yes | Replace NaN with 'Unknown' or Other?|\n",
    "| AdXXX | - | - | - |\n",
    "| Recommendations | - | - | - |"
   ],
   "metadata": {}
  },
  {
   "cell_type": "markdown",
   "source": [
    "### COLUMNS_PREF\n",
    "Preferences of the lead"
   ],
   "metadata": {}
  },
  {
   "cell_type": "code",
   "execution_count": 99,
   "source": [
    "utils.showColumns(df, COLS_PREF)"
   ],
   "outputs": [
    {
     "output_type": "stream",
     "name": "stdout",
     "text": [
      "NoEmail   : object  :    0, 0.0% :    2, 0.0% : ['No', 'Yes']\n",
      "NoCall    : object  :    0, 0.0% :    2, 0.0% : ['No', 'Yes']\n",
      "CourseUpdates: object  :    0, 0.0% :    1, 0.0% : ['No']\n",
      "SCCUpdates: object  :    0, 0.0% :    1, 0.0% : ['No']\n",
      "DMCUpdates: object  :    0, 0.0% :    1, 0.0% : ['No']\n",
      "FreeCopy  : object  :    0, 0.0% :    2, 0.0% : ['No', 'Yes']\n",
      "PayAmount : object  :    0, 0.0% :    1, 0.0% : ['No']\n"
     ]
    }
   ],
   "metadata": {}
  },
  {
   "cell_type": "markdown",
   "source": [
    "| Column Name | Missing values? | Select? | Handling |\n",
    "|---|---|---|---|\n",
    "| XXX |  - | - | - |"
   ],
   "metadata": {}
  },
  {
   "cell_type": "code",
   "execution_count": null,
   "source": [
    "print(\"Do Not Email = No\\n\", df[df['Do Not Email']=='No']['Converted'].value_counts())\n",
    "print(\"Do Not Email = Yes\\n\", df[df['Do Not Email']=='Yes']['Converted'].value_counts())"
   ],
   "outputs": [],
   "metadata": {}
  },
  {
   "cell_type": "code",
   "execution_count": null,
   "source": [
    "print(\"Do Not Call = No\\n\", df[df['Do Not Call']=='No']['Converted'].value_counts())\n",
    "print(\"Do Not Call = Yes\\n\", df[df['Do Not Call']=='Yes']['Converted'].value_counts())"
   ],
   "outputs": [],
   "metadata": {}
  },
  {
   "cell_type": "code",
   "execution_count": null,
   "source": [
    "df[df['Do Not Email']=='Yes']['Converted']"
   ],
   "outputs": [],
   "metadata": {}
  },
  {
   "cell_type": "markdown",
   "source": [
    "### ACTIVITY\n",
    "Activity of the lead - Indicator of candidate's interest.\n",
    "- Visits, Time spent: Higher the value, higher is the interest\n",
    "- Last Activity & Last Notable Activity share the same values except 'Converted to Lead' of Last Activity\n",
    "- Visits to the site and time spent on the website"
   ],
   "metadata": {}
  },
  {
   "cell_type": "code",
   "execution_count": 105,
   "source": [
    "importlib.reload(utils)\n",
    "utils.showColumns(df, COLS_ACTIVTIY)"
   ],
   "outputs": [
    {
     "output_type": "stream",
     "name": "stdout",
     "text": [
      "TotalVisits: float64 :  137, 1.5% : 3 [0.0, 1.0, 3.0, 5.0, 251.0] \n",
      "PageViews : float64 :  137, 1.5% : 2 [0.0, 1.0, 2.0, 3.0, 55.0] \n",
      "TimeSpent : int64   :    0, 0.0% : 488 [0.0, 12.0, 248.0, 936.0, 2272.0] \n",
      "LastActivity: object  :  103, 1.1% :   18, 0.2% : ['nan', 'Approached upfront', 'Converted to Lead', 'Email Bounced', 'Email Link Clicked', 'Email Marked Spam', 'Email Opened', 'Email Received', 'Form Submitted on Website', 'Had a Phone Conversation', 'Olark Chat Conversation', 'Page Visited on Website', 'Resubscribed to emails', 'SMS Sent', 'Unreachable', 'Unsubscribed', 'View in browser link Clicked', 'Visited Booth in Tradeshow']\n",
      "LastNotableActivity: object  :    0, 0.0% :   16, 0.2% : ['Approached upfront', 'Email Bounced', 'Email Link Clicked', 'Email Marked Spam', 'Email Opened', 'Email Received', 'Form Submitted on Website', 'Had a Phone Conversation', 'Modified', 'Olark Chat Conversation', 'Page Visited on Website', 'Resubscribed to emails', 'SMS Sent', 'Unreachable', 'Unsubscribed', 'View in browser link Clicked']\n"
     ]
    }
   ],
   "metadata": {}
  },
  {
   "cell_type": "markdown",
   "source": [
    "| Column Name | Missing values? | Select? | Handling |\n",
    "|---|---|---|---|\n",
    "| TotalVisits | 1.5% | - | Remove the rows with null values |\n",
    "| PageViews | 1.5% | - | Remove the rows with null values |\n",
    "| TimeSpent | -  | - | - |\n",
    "| LastActivity |  1.1% | -  | Remove the rows with null values |\n",
    "| LastNotableActivity | - | - | - |\n",
    "\n",
    "Note: LastActivity & LastNotableActivity differ in 2 values - nan,  'Converted to Lead'"
   ],
   "metadata": {}
  },
  {
   "cell_type": "code",
   "execution_count": null,
   "source": [
    "plt.figure(figsize=(20, 6), dpi=80)\n",
    "ax = plt.subplot(1, 2, 1); \n",
    "df[df['Converted']==1].groupby('Last Activity').agg({'Last Activity':'count'}). \\\n",
    "        rename(columns={'Last Activity':'count'}).sort_values(by='count', ascending=False).plot.bar(ax=ax)#, ax=ax)\n",
    "ax.set_title(f\"Converted==1\")\n",
    "\n",
    "ax = plt.subplot(1, 2, 2); \n",
    "df[df['Converted']==0].groupby('Last Activity').agg({'Last Activity':'count'}). \\\n",
    "        rename(columns={'Last Activity':'count'}).sort_values(by='count', ascending=False).plot.bar(ax=ax)#, ax=ax)\n",
    "ax.set_title(f\"Converted==0\")"
   ],
   "outputs": [],
   "metadata": {}
  },
  {
   "cell_type": "code",
   "execution_count": null,
   "source": [
    "plt.figure(figsize=(20, 4), dpi=80)\n",
    "ax = plt.subplot(2, 3, 1); df.boxplot(column='TotalVisits', by='Converted', ax=ax)\n",
    "ax = plt.subplot(2, 3, 2); df.boxplot(column='Page Views Per Visit', by='Converted', ax=ax)\n",
    "ax = plt.subplot(2, 3, 3); df.boxplot(column='Total Time Spent on Website', by='Converted', ax=ax)\n",
    "\n",
    "#ax = plt.subplot(2, 3, 4); df.plot.bar(x='Last Activity', by='Converted', ax=ax)\n",
    "#ax = plt.subplot(2, 3, 5); df.plot.bar(x='Last Notable Activity', by='Converted', ax=ax)\n",
    "#ax = plt.subplot(2, 3, 6); df.plot.bar(column='Total Time Spent on Website', by='Converted', ax=ax)"
   ],
   "outputs": [],
   "metadata": {}
  },
  {
   "cell_type": "markdown",
   "source": [
    "### INDEXSCORE"
   ],
   "metadata": {}
  },
  {
   "cell_type": "code",
   "execution_count": 106,
   "source": [
    "utils.showColumns(df, COLS_INDEXSCORE)"
   ],
   "outputs": [
    {
     "output_type": "stream",
     "name": "stdout",
     "text": [
      "ActivityIndex: object  : 4218, 45.6% :    4, 0.0% : ['nan', '01.High', '02.Medium', '03.Low']\n",
      "ProfileIndex: object  : 4218, 45.6% :    4, 0.0% : ['nan', '01.High', '02.Medium', '03.Low']\n",
      "ActivityScore: float64 : 4218, 45.6% : 14 [7.0, 14.0, 14.0, 15.0, 18.0] \n",
      "ProfileScore: float64 : 4218, 45.6% : 16 [11.0, 15.0, 16.0, 18.0, 20.0] \n"
     ]
    }
   ],
   "metadata": {}
  },
  {
   "cell_type": "markdown",
   "source": [
    "| Column Name | Missing values? | Select? | Handling |\n",
    "|---|---|---|---|\n",
    "| ActivityIndex | 45.6%  | - | TODO |\n",
    "| ProfileIndex | 45.6%  | - | TODO |\n",
    "| ActivityScore | 45.6%  | - | TODO |\n",
    "| ProfileScore | 45.6%  | - | TODO |"
   ],
   "metadata": {}
  },
  {
   "cell_type": "markdown",
   "source": [
    "### LEAD\n",
    "Lead related data - Where was the customer identified as a lead? Source, quality and level/profile of the lead\n"
   ],
   "metadata": {}
  },
  {
   "cell_type": "code",
   "execution_count": 107,
   "source": [
    "utils.showColumns(df, COLS_LEAD)"
   ],
   "outputs": [
    {
     "output_type": "stream",
     "name": "stdout",
     "text": [
      "LeadNumber: int64   :    0, 0.0% : 617188 [579533.0, 596484.5, 615479.0, 637387.25, 660737.0] \n",
      "LeadOrigin: object  :    0, 0.0% :    5, 0.1% : ['API', 'Landing Page Submission', 'Lead Add Form', 'Lead Import', 'Quick Add Form']\n",
      "LeadSource: object  :   36, 0.4% :   22, 0.2% : ['nan', 'Click2call', 'Direct Traffic', 'Facebook', 'Google', 'Live Chat', 'NC_EDM', 'Olark Chat', 'Organic Search', 'Pay per Click Ads', 'Press_Release', 'Reference', 'Referral Sites', 'Social Media', 'WeLearn', 'Welingak Website', 'bing', 'blog', 'google', 'testone', 'welearnblog_Home', 'youtubechannel']\n",
      "LeadQuality: object  : 4767, 51.6% :    6, 0.1% : ['nan', 'High in Relevance', 'Low in Relevance', 'Might be', 'Not Sure', 'Worst']\n",
      "LeadProfile: object  : 2709, 29.3% :    7, 0.1% : ['nan', 'Dual Specialization Student', 'Lateral Student', 'Other Leads', 'Potential Lead', 'Select', 'Student of SomeSchool']\n",
      "Tags      : object  : 3353, 36.3% :   27, 0.3% : ['nan', 'Already a student', 'Busy', 'Closed by Horizzon', 'Diploma holder (Not Eligible)', 'Graduation in progress', 'In confusion whether part time or DLP', 'Interested  in full time MBA', 'Interested in Next batch', 'Interested in other courses', 'Lateral student', 'Lost to EINS', 'Lost to Others', 'Not doing further education', 'Recognition issue (DEC approval)', 'Ringing', 'Shall take in the next coming month', 'Still Thinking', 'University not recognized', 'Want to take admission but has financial problems', 'Will revert after reading the email', 'in touch with EINS', 'invalid number', 'number not provided', 'opp hangup', 'switched off', 'wrong number given']\n"
     ]
    }
   ],
   "metadata": {}
  },
  {
   "cell_type": "markdown",
   "source": [
    "| Column Name | Missing values? | Select? | Handling |\n",
    "|---|---|---|---|\n",
    "| LeadNumber | - | - | - |\n",
    "| LeadOrigin | - | - | - |\n",
    "| LeadSource | 0.4% | - | Remove the rows with null values |\n",
    "| LeadQuality | 51.6% | - | |\n",
    "| LeadProfile | 29.3% | Yes | |\n",
    "| Tags | 36.3% | | |\n"
   ],
   "metadata": {}
  },
  {
   "cell_type": "code",
   "execution_count": null,
   "source": [
    "df[df['Converted']==1][COLS_LEAD + ['Lead Number']]"
   ],
   "outputs": [],
   "metadata": {}
  },
  {
   "cell_type": "markdown",
   "source": [
    "### How are customers who are converted to paid customers?\n",
    "What are the characteristics of the customers who are converted and not converted?"
   ],
   "metadata": {}
  },
  {
   "cell_type": "code",
   "execution_count": null,
   "source": [
    "TOTAL = df.shape[0]\n",
    "print(TOTAL)\n",
    "\n",
    "for value in df['Converted'].value_counts().index:\n",
    "    count = df['Converted'].value_counts()[value]\n",
    "    print(f\"{value:2}: {count} : {100 * count/TOTAL:6.2f}% \", end='')\n",
    "    print()\n"
   ],
   "outputs": [],
   "metadata": {}
  },
  {
   "cell_type": "code",
   "execution_count": null,
   "source": [
    "df[df['Converted']==1][COLS_ASYM]"
   ],
   "outputs": [],
   "metadata": {}
  },
  {
   "cell_type": "code",
   "execution_count": null,
   "source": [
    "df[COLS_ASYM].plot.box(by='Converted', figsize = (10, 6));plt.show()"
   ],
   "outputs": [],
   "metadata": {}
  },
  {
   "cell_type": "code",
   "execution_count": null,
   "source": [
    "plt.figure(figsize=(20, 6), dpi=80)\n",
    "\n",
    "ax = plt.subplot(1, 2, 1); df.boxplot(column='Asymmetrique Activity Score', by='Converted', ax=ax)\n",
    "ax=plt.subplot(1, 2, 2); df.boxplot(column='Asymmetrique Profile Score', by='Converted', ax=ax)"
   ],
   "outputs": [],
   "metadata": {}
  },
  {
   "cell_type": "markdown",
   "source": [
    "## MISSING VALUES"
   ],
   "metadata": {}
  },
  {
   "cell_type": "code",
   "execution_count": null,
   "source": [
    "df[df.columns[df.isnull().any()]].info()"
   ],
   "outputs": [],
   "metadata": {}
  },
  {
   "cell_type": "code",
   "execution_count": null,
   "source": [
    "import missingno as msno\n",
    "msno.matrix(df)"
   ],
   "outputs": [],
   "metadata": {}
  },
  {
   "cell_type": "code",
   "execution_count": null,
   "source": [
    "msno.bar(df)"
   ],
   "outputs": [],
   "metadata": {}
  },
  {
   "cell_type": "code",
   "execution_count": null,
   "source": [
    "TOTAL = df.shape[0]\n",
    "print(TOTAL)\n",
    "for col in COLUMNS_NULL:\n",
    "    print(f\"{col:50}: {df[col].dtype.name:8}: {df[col].isnull().sum():6d} : {100 * df[col].isnull().sum()/TOTAL:6.2f}% \", end='')\n",
    "    #if df[col].dtype == 'object':\n",
    "    #    print(f\"{df[col].value_counts().index.tolist()}\",end='')\n",
    "    print()\n"
   ],
   "outputs": [],
   "metadata": {}
  },
  {
   "cell_type": "code",
   "execution_count": null,
   "source": [
    "df['Search'].value_counts()"
   ],
   "outputs": [],
   "metadata": {}
  },
  {
   "cell_type": "code",
   "execution_count": null,
   "source": [
    "df['Newspaper'].value_counts()"
   ],
   "outputs": [],
   "metadata": {}
  },
  {
   "cell_type": "code",
   "execution_count": null,
   "source": [
    "COLUMNS_LEAD = ['Lead Origin', 'Lead Source', 'Lead Quality']\n",
    "df[COLUMNS_LEAD]"
   ],
   "outputs": [],
   "metadata": {}
  },
  {
   "cell_type": "code",
   "execution_count": null,
   "source": [
    "COLUMNS_ADS = ['Search', 'Magazine', 'Newspaper Article', 'X Education Forums', 'Newspaper', 'Digital Advertisement']\n",
    "df[df[COLUMNS_ADS].isin(['Yes']).any(axis=1)][COLUMNS_ADS]"
   ],
   "outputs": [],
   "metadata": {}
  },
  {
   "cell_type": "code",
   "execution_count": null,
   "source": [
    "df['Asymmetrique Activity Index'].value_counts()"
   ],
   "outputs": [],
   "metadata": {}
  },
  {
   "cell_type": "code",
   "execution_count": null,
   "source": [
    "df['Asymmetrique Activity Score'].value_counts()"
   ],
   "outputs": [],
   "metadata": {}
  },
  {
   "cell_type": "code",
   "execution_count": null,
   "source": [
    "df[df['Asymmetrique Activity Index'].isnull()][['Lead Source', 'Lead Quality', 'Lead Profile', 'Asymmetrique Activity Index', 'Asymmetrique Activity Score','Asymmetrique Profile Index','Asymmetrique Profile Score']]"
   ],
   "outputs": [],
   "metadata": {}
  },
  {
   "cell_type": "code",
   "execution_count": null,
   "source": [
    "df['Lead Quality'].value_counts()"
   ],
   "outputs": [],
   "metadata": {}
  },
  {
   "cell_type": "code",
   "execution_count": null,
   "source": [
    "df[df['Specialization']=='Select'].shape[0]"
   ],
   "outputs": [],
   "metadata": {}
  },
  {
   "cell_type": "code",
   "execution_count": null,
   "source": [
    "for col in COLUMNS:\n",
    "    nan = df[col].isnull().sum()\n",
    "    select = df[df[col]=='Select'].shape[0]\n",
    "    if nan > 0 or select > 0:\n",
    "        print(f\"{col:50}: {nan:6d} : {100 * nan/TOTAL:6.2f}% : {select:4d} : {100 * select/TOTAL:6.2f}% : {df[col].dtype}\", end='')\n",
    "        #if df[col].dtype == 'object':\n",
    "        #    print(f\"{df[col].value_counts().index.tolist()}\",end='')\n",
    "        print()"
   ],
   "outputs": [],
   "metadata": {}
  },
  {
   "cell_type": "code",
   "execution_count": null,
   "source": [
    "print(df.shape[0])\n",
    "for col in ['Lead Source', 'TotalVisits', 'Page Views Per Visit', 'Last Activity']:\n",
    "    df.drop(df[df[col].isnull()].index, inplace=True)\n",
    "print(df.shape[0])"
   ],
   "outputs": [],
   "metadata": {}
  },
  {
   "cell_type": "code",
   "execution_count": null,
   "source": [
    "for col in COLUMNS:\n",
    "    nan = df[col].isnull().sum()\n",
    "    select = df[df[col]=='Select'].shape[0]\n",
    "    if nan > 0 or select > 0:\n",
    "        print(f\"{col:50}: {nan:6d} : {100 * nan/TOTAL:6.2f}% : {select:4d} : {100 * select/TOTAL:6.2f}% : {df[col].dtype}\", end='')\n",
    "        #if df[col].dtype == 'object':\n",
    "        #    print(f\"{df[col].value_counts().index.tolist()}\",end='')\n",
    "        print()"
   ],
   "outputs": [],
   "metadata": {}
  },
  {
   "cell_type": "code",
   "execution_count": null,
   "source": [
    "df['Country'].value_counts()\n",
    "# Impute null values to unknown?"
   ],
   "outputs": [],
   "metadata": {}
  },
  {
   "cell_type": "code",
   "execution_count": null,
   "source": [
    "df['City'].value_counts()"
   ],
   "outputs": [],
   "metadata": {}
  },
  {
   "cell_type": "code",
   "execution_count": null,
   "source": [
    "df['Lead Profile'].value_counts()\n",
    "# Impute it to Other Leads?"
   ],
   "outputs": [],
   "metadata": {}
  },
  {
   "cell_type": "code",
   "execution_count": null,
   "source": [
    "df['Lead Quality'].value_counts()\n",
    "# Impute it to 'Not Sure'??"
   ],
   "outputs": [],
   "metadata": {}
  },
  {
   "cell_type": "code",
   "execution_count": null,
   "source": [
    "df['Tags'].value_counts()"
   ],
   "outputs": [],
   "metadata": {}
  },
  {
   "cell_type": "code",
   "execution_count": null,
   "source": [
    "df['What matters most to you in choosing a course'].value_counts()\n",
    "# TODO: Impute this with 'Other'?"
   ],
   "outputs": [],
   "metadata": {}
  },
  {
   "cell_type": "code",
   "execution_count": null,
   "source": [
    "df['What is your current occupation'].value_counts()\n",
    "# TODO: Impute this with 'Other'?"
   ],
   "outputs": [],
   "metadata": {}
  },
  {
   "cell_type": "code",
   "execution_count": null,
   "source": [
    "df['How did you hear about X Education'].value_counts()\n",
    "# TODO: Impute this with 'Other'?"
   ],
   "outputs": [],
   "metadata": {}
  },
  {
   "cell_type": "code",
   "execution_count": null,
   "source": [
    "df['Prospect ID'].unique().shape[0]\n",
    "# This can be dropped fro the model"
   ],
   "outputs": [],
   "metadata": {}
  },
  {
   "cell_type": "code",
   "execution_count": null,
   "source": [
    "df['Lead Number'].unique().shape[0]\n",
    "# This can be dropped fro the model"
   ],
   "outputs": [],
   "metadata": {}
  },
  {
   "cell_type": "code",
   "execution_count": null,
   "source": [
    "df['Specialization'].value_counts()\n",
    "# TODO: Impute this with ??"
   ],
   "outputs": [],
   "metadata": {}
  },
  {
   "cell_type": "code",
   "execution_count": null,
   "source": [
    "df[(df['Country'].isnull()) & (~df['City'].isnull()) & (df['City']!='Select')][['City']].value_counts()"
   ],
   "outputs": [],
   "metadata": {}
  },
  {
   "cell_type": "code",
   "execution_count": null,
   "source": [
    "import seaborn as sns\n",
    "\n",
    "sns.heatmap(df.corr())"
   ],
   "outputs": [],
   "metadata": {}
  },
  {
   "cell_type": "code",
   "execution_count": null,
   "source": [
    "sns.pairplot(data=df)"
   ],
   "outputs": [],
   "metadata": {}
  },
  {
   "cell_type": "code",
   "execution_count": null,
   "source": [
    "df.plot.bar(x='Country')"
   ],
   "outputs": [],
   "metadata": {}
  }
 ],
 "metadata": {
  "orig_nbformat": 4,
  "language_info": {
   "name": "python",
   "version": "3.7.9",
   "mimetype": "text/x-python",
   "codemirror_mode": {
    "name": "ipython",
    "version": 3
   },
   "pygments_lexer": "ipython3",
   "nbconvert_exporter": "python",
   "file_extension": ".py"
  },
  "kernelspec": {
   "name": "python3",
   "display_name": "Python 3.7.9 64-bit ('venv': venv)"
  },
  "interpreter": {
   "hash": "463f37f76014c32d3df853a5b5c126f8251977df1642d173ac15ea7b0c7e9d84"
  }
 },
 "nbformat": 4,
 "nbformat_minor": 2
}